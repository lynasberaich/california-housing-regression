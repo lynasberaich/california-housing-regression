{
  "cells": [
    {
      "cell_type": "markdown",
      "metadata": {
        "id": "myTYmF5OOtGS"
      },
      "source": [
        "**Logistic regression** is a probabilistic statistical classification model that can be used to predict a categorical dependent variable (e.g., iris species) based on one or more predictor variables (e.g., iris features).  Traditionally it's a binary classifier, but can be extended to a multiclass one, which we use here.  It's name comes from the use of the **[logit function](https://en.wikipedia.org/wiki/Logit)** used in statistics.\n",
        "\n",
        "![Wikimedia](https://upload.wikimedia.org/wikipedia/commons/thumb/c/c8/Logit.svg/200px-Logit.svg.png)"
      ]
    },
    {
      "cell_type": "code",
      "execution_count": null,
      "metadata": {
        "id": "I-jSr-3DYvOj"
      },
      "outputs": [],
      "source": [
        "from sklearn.datasets import load_iris\n",
        "from sklearn.linear_model import LogisticRegression\n",
        "import numpy as np\n",
        "import matplotlib.pyplot as plt\n",
        "np.set_printoptions(precision=2)  # print only two decimal places"
      ]
    },
    {
      "cell_type": "markdown",
      "metadata": {
        "id": "z5W_ifA1SYj6"
      },
      "source": [
        "Load the iris data and show the first five rows of each"
      ]
    },
    {
      "cell_type": "code",
      "execution_count": null,
      "metadata": {
        "colab": {
          "base_uri": "https://localhost:8080/",
          "height": 121
        },
        "id": "reg3ld_TZADy",
        "outputId": "81265554-7e6e-4a85-b347-0160a22c3e6d"
      },
      "outputs": [
        {
          "name": "stdout",
          "output_type": "stream",
          "text": [
            "Data: [[5.1 3.5 1.4 0.2]\n",
            " [4.9 3.  1.4 0.2]\n",
            " [4.7 3.2 1.3 0.2]\n",
            " [4.6 3.1 1.5 0.2]\n",
            " [5.  3.6 1.4 0.2]]\n",
            "Target: [0 0 0 0 0]\n"
          ]
        }
      ],
      "source": [
        "iris = load_iris()\n",
        "print('Data:', iris.data[0:5,:])\n",
        "print('Target:', iris.target[0:5])\n"
      ]
    },
    {
      "cell_type": "markdown",
      "metadata": {
        "id": "mZNBtWs2U7vQ"
      },
      "source": [
        "We downsize our data to the first (sepal length) and fourth (pedal width) columns to make the results easy to visualize in 2D"
      ]
    },
    {
      "cell_type": "code",
      "execution_count": null,
      "metadata": {
        "colab": {
          "base_uri": "https://localhost:8080/",
          "height": 104
        },
        "id": "3NklOwq6UdnR",
        "outputId": "3b36a625-06fe-4da2-ade9-37bddf72bb5c"
      },
      "outputs": [
        {
          "name": "stdout",
          "output_type": "stream",
          "text": [
            "X: [[5.1 0.2]\n",
            " [4.9 0.2]\n",
            " [4.7 0.2]\n",
            " [4.6 0.2]\n",
            " [5.  0.2]]\n"
          ]
        }
      ],
      "source": [
        "X = iris.data[:, [0, 3]]\n",
        "y = iris.target\n",
        "print('X:', X[0:5,:])"
      ]
    },
    {
      "cell_type": "markdown",
      "metadata": {
        "id": "P-ne-15EVa3j"
      },
      "source": [
        "For logistic regression, the data values are often normalized to a standard scale.  This tends to help the algorithm converge."
      ]
    },
    {
      "cell_type": "code",
      "execution_count": null,
      "metadata": {
        "colab": {
          "base_uri": "https://localhost:8080/",
          "height": 104
        },
        "id": "X-eLQxX3ZDuM",
        "outputId": "84558223-3e2b-4c62-f2a1-18287a30c06b"
      },
      "outputs": [
        {
          "name": "stdout",
          "output_type": "stream",
          "text": [
            "[[-0.9  -1.32]\n",
            " [-1.14 -1.32]\n",
            " [-1.39 -1.32]\n",
            " [-1.51 -1.32]\n",
            " [-1.02 -1.32]]\n"
          ]
        }
      ],
      "source": [
        "X[:,0] = (X[:,0] - X[:,0].mean()) / X[:,0].std()\n",
        "X[:,1] = (X[:,1] - X[:,1].mean()) / X[:,1].std()\n",
        "print(X[:5,:])\n"
      ]
    },
    {
      "cell_type": "markdown",
      "metadata": {
        "id": "ZUj8uZnqVpyO"
      },
      "source": [
        "Create a logistic regression model and fit it to the data"
      ]
    },
    {
      "cell_type": "code",
      "execution_count": null,
      "metadata": {
        "colab": {
          "base_uri": "https://localhost:8080/",
          "height": 104
        },
        "id": "flYuR0kjZIwM",
        "outputId": "89b936a7-9404-4a71-de5d-ab32474bc1a5"
      },
      "outputs": [
        {
          "data": {
            "text/plain": [
              "LogisticRegression(C=100000.0, class_weight=None, dual=False,\n",
              "                   fit_intercept=True, intercept_scaling=1, l1_ratio=None,\n",
              "                   max_iter=100, multi_class='multinomial', n_jobs=None,\n",
              "                   penalty='l2', random_state=None, solver='lbfgs', tol=0.0001,\n",
              "                   verbose=0, warm_start=False)"
            ]
          },
          "execution_count": 40,
          "metadata": {
            "tags": []
          },
          "output_type": "execute_result"
        }
      ],
      "source": [
        "clf = LogisticRegression(C=1e5, solver='lbfgs', multi_class='multinomial')\n",
        "clf.fit(X, y)"
      ]
    },
    {
      "cell_type": "markdown",
      "metadata": {
        "id": "36YIBNytWAuy"
      },
      "source": [
        "Show what model predicts for the last three rows"
      ]
    },
    {
      "cell_type": "code",
      "execution_count": null,
      "metadata": {
        "colab": {
          "base_uri": "https://localhost:8080/",
          "height": 35
        },
        "id": "NtwvcrQYZi_C",
        "outputId": "d920bc86-c8bf-480a-8932-12f0457020a3"
      },
      "outputs": [
        {
          "name": "stdout",
          "output_type": "stream",
          "text": [
            "Last 3 Class Labels: [2 2 2]\n"
          ]
        }
      ],
      "source": [
        "y_pred = clf.predict(X)\n",
        "print('Last 3 Class Labels: %s' % y_pred[-3:])"
      ]
    },
    {
      "cell_type": "markdown",
      "metadata": {
        "id": "ySrmViR2KGJa"
      },
      "source": [
        "[Mlxtend](https://) (machine learning extensions) is a Python library of useful tools for the day-to-day data science tasks"
      ]
    },
    {
      "cell_type": "code",
      "execution_count": null,
      "metadata": {
        "colab": {
          "base_uri": "https://localhost:8080/",
          "height": 280
        },
        "id": "5ewWVRwSalKA",
        "outputId": "b9b29746-b5fb-4e13-8869-6b7c2ac4a02d"
      },
      "outputs": [
        {
          "name": "stdout",
          "output_type": "stream",
          "text": [
            "Requirement already satisfied: mlxtend in /usr/local/lib/python3.6/dist-packages (0.14.0)\n",
            "Requirement already satisfied: pandas>=0.17.1 in /usr/local/lib/python3.6/dist-packages (from mlxtend) (1.0.3)\n",
            "Requirement already satisfied: matplotlib>=1.5.1 in /usr/local/lib/python3.6/dist-packages (from mlxtend) (3.2.1)\n",
            "Requirement already satisfied: numpy>=1.10.4 in /usr/local/lib/python3.6/dist-packages (from mlxtend) (1.18.3)\n",
            "Requirement already satisfied: setuptools in /usr/local/lib/python3.6/dist-packages (from mlxtend) (46.1.3)\n",
            "Requirement already satisfied: scikit-learn>=0.18 in /usr/local/lib/python3.6/dist-packages (from mlxtend) (0.22.2.post1)\n",
            "Requirement already satisfied: scipy>=0.17 in /usr/local/lib/python3.6/dist-packages (from mlxtend) (1.4.1)\n",
            "Requirement already satisfied: python-dateutil>=2.6.1 in /usr/local/lib/python3.6/dist-packages (from pandas>=0.17.1->mlxtend) (2.8.1)\n",
            "Requirement already satisfied: pytz>=2017.2 in /usr/local/lib/python3.6/dist-packages (from pandas>=0.17.1->mlxtend) (2018.9)\n",
            "Requirement already satisfied: pyparsing!=2.0.4,!=2.1.2,!=2.1.6,>=2.0.1 in /usr/local/lib/python3.6/dist-packages (from matplotlib>=1.5.1->mlxtend) (2.4.7)\n",
            "Requirement already satisfied: cycler>=0.10 in /usr/local/lib/python3.6/dist-packages (from matplotlib>=1.5.1->mlxtend) (0.10.0)\n",
            "Requirement already satisfied: kiwisolver>=1.0.1 in /usr/local/lib/python3.6/dist-packages (from matplotlib>=1.5.1->mlxtend) (1.2.0)\n",
            "Requirement already satisfied: joblib>=0.11 in /usr/local/lib/python3.6/dist-packages (from scikit-learn>=0.18->mlxtend) (0.14.1)\n",
            "Requirement already satisfied: six>=1.5 in /usr/local/lib/python3.6/dist-packages (from python-dateutil>=2.6.1->pandas>=0.17.1->mlxtend) (1.12.0)\n"
          ]
        }
      ],
      "source": [
        "!pip install mlxtend"
      ]
    },
    {
      "cell_type": "code",
      "execution_count": null,
      "metadata": {
        "colab": {
          "base_uri": "https://localhost:8080/",
          "height": 336
        },
        "id": "TeASEUPJaH5w",
        "outputId": "285c161d-24c3-4c6e-d2d0-6f126af329f9"
      },
      "outputs": [
        {
          "name": "stderr",
          "output_type": "stream",
          "text": [
            "/usr/local/lib/python3.6/dist-packages/mlxtend/plotting/decision_regions.py:244: MatplotlibDeprecationWarning: Passing unsupported keyword arguments to axis() will raise a TypeError in 3.3.\n",
            "  ax.axis(xmin=xx.min(), xmax=xx.max(), y_min=yy.min(), y_max=yy.max())\n"
          ]
        },
        {
          "data": {
            "image/png": "[encoded data removed]",
            "text/plain": [
              "<Figure size 432x288 with 1 Axes>"
            ]
          },
          "metadata": {
            "needs_background": "light",
            "tags": []
          },
          "output_type": "display_data"
        }
      ],
      "source": [
        "from mlxtend.plotting import plot_decision_regions\n",
        "\n",
        "\n",
        "plot_decision_regions(X, y, clf=clf)\n",
        "plt.title('Softmax Regression in scikit-learn')\n",
        "plt.show()"
      ]
    },
    {
      "cell_type": "code",
      "execution_count": 12,
      "metadata": {},
      "outputs": [
        {
          "name": "stdout",
          "output_type": "stream",
          "text": [
            "Training set size: 16512 samples\n",
            "Testing set size: 4128 samples\n",
            "\n",
            "Model performance:\n",
            "Mean Squared Error: 0.5559\n"
          ]
        }
      ],
      "source": [
        "# Import necessary libraries\n",
        "import sklearn\n",
        "from sklearn.datasets import fetch_california_housing\n",
        "from sklearn.model_selection import train_test_split\n",
        "from sklearn.linear_model import LinearRegression\n",
        "from sklearn.metrics import mean_squared_error, r2_score\n",
        "import numpy as np\n",
        "import matplotlib.pyplot as plt\n",
        "\n",
        "housing = fetch_california_housing()\n",
        "X = housing.data\n",
        "y = housing.target\n",
        "\n",
        "X_train, X_test, y_train, y_test = train_test_split(X, y, test_size=0.2, random_state=42)\n",
        "\n",
        "print(f\"Training set size: {X_train.shape[0]} samples\")\n",
        "print(f\"Testing set size: {X_test.shape[0]} samples\")\n",
        "\n",
        "y_pred = model.predict(X_test)\n",
        "\n",
        "model = LinearRegression()\n",
        "\n",
        "model.fit(X_train, y_train)\n",
        "\n",
        "\n",
        "y_pred = model.predict(X_test)\n",
        "\n",
        "mse = mean_squared_error(y_test, y_pred)\n",
        "rmse = np.sqrt(mse)\n",
        "r2 = r2_score(y_test, y_pred)\n",
        "\n",
        "print(\"\\nModel performance:\")\n",
        "print(f\"Mean Squared Error: {mse:.4f}\")\n",
        "\n"
      ]
    }
  ],
  "metadata": {
    "colab": {
      "provenance": []
    },
    "kernelspec": {
      "display_name": "Python 3",
      "name": "python3"
    },
    "language_info": {
      "codemirror_mode": {
        "name": "ipython",
        "version": 3
      },
      "file_extension": ".py",
      "mimetype": "text/x-python",
      "name": "python",
      "nbconvert_exporter": "python",
      "pygments_lexer": "ipython3",
      "version": "3.9.6"
    }
  },
  "nbformat": 4,
  "nbformat_minor": 0
}
