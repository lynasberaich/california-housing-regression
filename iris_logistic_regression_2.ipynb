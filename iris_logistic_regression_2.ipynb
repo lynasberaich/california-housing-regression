{
  "nbformat": 4,
  "nbformat_minor": 0,
  "metadata": {
    "colab": {
      "provenance": []
    },
    "kernelspec": {
      "name": "python3",
      "display_name": "Python 3"
    }
  },
  "cells": [
    {
      "cell_type": "markdown",
      "metadata": {
        "id": "myTYmF5OOtGS"
      },
      "source": [
        "**Logistic regression** is a probabilistic statistical classification model that can be used to predict a categorical dependent variable (e.g., iris species) based on one or more predictor variables (e.g., iris features).  Traditionally it's a binary classifier, but can be extended to a multiclass one, which we use here.  It's name comes from the use of the **[logit function](https://en.wikipedia.org/wiki/Logit)** used in statistics.\n",
        "\n",
        "![Wikimedia](https://upload.wikimedia.org/wikipedia/commons/thumb/c/c8/Logit.svg/200px-Logit.svg.png)\n"
      ]
    },
    {
      "cell_type": "code",
      "metadata": {
        "id": "I-jSr-3DYvOj"
      },
      "source": [
        "from sklearn.datasets import load_iris\n",
        "from sklearn.linear_model import LogisticRegression\n",
        "from sklearn.model_selection import cross_val_score\n",
        "import numpy as np\n",
        "np.set_printoptions(precision=2)  # print only two decimal places"
      ],
      "execution_count": null,
      "outputs": []
    },
    {
      "cell_type": "markdown",
      "metadata": {
        "id": "z5W_ifA1SYj6"
      },
      "source": [
        "Load the iris data\n"
      ]
    },
    {
      "cell_type": "code",
      "metadata": {
        "id": "reg3ld_TZADy"
      },
      "source": [
        "iris = load_iris()\n",
        "X = iris.data\n",
        "y = iris.target"
      ],
      "execution_count": null,
      "outputs": []
    },
    {
      "cell_type": "markdown",
      "metadata": {
        "id": "P-ne-15EVa3j"
      },
      "source": [
        "Normalize the data to help convergence and show the first five rows."
      ]
    },
    {
      "cell_type": "code",
      "metadata": {
        "id": "X-eLQxX3ZDuM",
        "colab": {
          "base_uri": "https://localhost:8080/",
          "height": 104
        },
        "outputId": "1c239845-8d9f-46b9-a4cf-27a69aeaa639"
      },
      "source": [
        "X = (X-X.mean())/X.std()\n",
        "print(X[:5,:])"
      ],
      "execution_count": null,
      "outputs": [
        {
          "output_type": "stream",
          "text": [
            "[[ 0.83  0.02 -1.05 -1.65]\n",
            " [ 0.73 -0.24 -1.05 -1.65]\n",
            " [ 0.63 -0.13 -1.1  -1.65]\n",
            " [ 0.58 -0.18 -1.   -1.65]\n",
            " [ 0.78  0.07 -1.05 -1.65]]\n"
          ],
          "name": "stdout"
        }
      ]
    },
    {
      "cell_type": "markdown",
      "metadata": {
        "id": "ZUj8uZnqVpyO"
      },
      "source": [
        "Create a logistic regression model that works with more than two classes (multinomial)"
      ]
    },
    {
      "cell_type": "code",
      "metadata": {
        "id": "flYuR0kjZIwM"
      },
      "source": [
        "clf = LogisticRegression(C=1e5, solver='lbfgs', multi_class='multinomial')"
      ],
      "execution_count": null,
      "outputs": []
    },
    {
      "cell_type": "markdown",
      "metadata": {
        "id": "7DfMrmKQru8j"
      },
      "source": [
        "Run a cross validation experiment"
      ]
    },
    {
      "cell_type": "code",
      "metadata": {
        "id": "BYZeUkSgmBpu",
        "colab": {
          "base_uri": "https://localhost:8080/",
          "height": 627
        },
        "outputId": "9db13563-3815-4912-fe74-1be67b771c50"
      },
      "source": [
        "clf = LogisticRegression(C=1e5, solver='lbfgs', multi_class='multinomial')\n",
        "scores = cross_val_score(clf, X, y, cv=10)\n",
        "print('accuracy scores:', scores)\n",
        "print(\"Accuracy: {:0.2f} +/- {:0.2f}\".format(scores.mean(), scores.std()*2))"
      ],
      "execution_count": null,
      "outputs": [
        {
          "output_type": "stream",
          "text": [
            "accuracy scores: [1.   1.   1.   1.   0.93 1.   0.87 1.   1.   1.  ]\n",
            "Accuracy: 0.98 +/- 0.09\n"
          ],
          "name": "stdout"
        },
        {
          "output_type": "stream",
          "text": [
            "/usr/local/lib/python3.6/dist-packages/sklearn/linear_model/_logistic.py:940: ConvergenceWarning: lbfgs failed to converge (status=1):\n",
            "STOP: TOTAL NO. of ITERATIONS REACHED LIMIT.\n",
            "\n",
            "Increase the number of iterations (max_iter) or scale the data as shown in:\n",
            "    https://scikit-learn.org/stable/modules/preprocessing.html\n",
            "Please also refer to the documentation for alternative solver options:\n",
            "    https://scikit-learn.org/stable/modules/linear_model.html#logistic-regression\n",
            "  extra_warning_msg=_LOGISTIC_SOLVER_CONVERGENCE_MSG)\n",
            "/usr/local/lib/python3.6/dist-packages/sklearn/linear_model/_logistic.py:940: ConvergenceWarning: lbfgs failed to converge (status=1):\n",
            "STOP: TOTAL NO. of ITERATIONS REACHED LIMIT.\n",
            "\n",
            "Increase the number of iterations (max_iter) or scale the data as shown in:\n",
            "    https://scikit-learn.org/stable/modules/preprocessing.html\n",
            "Please also refer to the documentation for alternative solver options:\n",
            "    https://scikit-learn.org/stable/modules/linear_model.html#logistic-regression\n",
            "  extra_warning_msg=_LOGISTIC_SOLVER_CONVERGENCE_MSG)\n",
            "/usr/local/lib/python3.6/dist-packages/sklearn/linear_model/_logistic.py:940: ConvergenceWarning: lbfgs failed to converge (status=1):\n",
            "STOP: TOTAL NO. of ITERATIONS REACHED LIMIT.\n",
            "\n",
            "Increase the number of iterations (max_iter) or scale the data as shown in:\n",
            "    https://scikit-learn.org/stable/modules/preprocessing.html\n",
            "Please also refer to the documentation for alternative solver options:\n",
            "    https://scikit-learn.org/stable/modules/linear_model.html#logistic-regression\n",
            "  extra_warning_msg=_LOGISTIC_SOLVER_CONVERGENCE_MSG)\n",
            "/usr/local/lib/python3.6/dist-packages/sklearn/linear_model/_logistic.py:940: ConvergenceWarning: lbfgs failed to converge (status=1):\n",
            "STOP: TOTAL NO. of ITERATIONS REACHED LIMIT.\n",
            "\n",
            "Increase the number of iterations (max_iter) or scale the data as shown in:\n",
            "    https://scikit-learn.org/stable/modules/preprocessing.html\n",
            "Please also refer to the documentation for alternative solver options:\n",
            "    https://scikit-learn.org/stable/modules/linear_model.html#logistic-regression\n",
            "  extra_warning_msg=_LOGISTIC_SOLVER_CONVERGENCE_MSG)\n"
          ],
          "name": "stderr"
        }
      ]
    },
    {
      "cell_type": "markdown",
      "metadata": {
        "id": "dU1BZqAItGZQ"
      },
      "source": [
        "We got a warning that the the solver failed to converge.  Looking at the documentation we see that the maximum number of iterations is a paramter with default 100.  Let's try increasing it."
      ]
    },
    {
      "cell_type": "code",
      "metadata": {
        "id": "5-tTWA6gtvOr",
        "colab": {
          "base_uri": "https://localhost:8080/",
          "height": 52
        },
        "outputId": "d8005c43-7cdd-4fd7-9b5e-b59d3e5f969d"
      },
      "source": [
        "clf = LogisticRegression(C=1e5, solver='lbfgs', multi_class='multinomial', max_iter=200)\n",
        "scores = cross_val_score(clf, X, y, cv=10)\n",
        "print('accuracy scores:', scores)\n",
        "print(\"Accuracy: {:0.2f} +/- {:0.2f}\".format(scores.mean(), scores.std()*2))"
      ],
      "execution_count": null,
      "outputs": [
        {
          "output_type": "stream",
          "text": [
            "accuracy scores: [1.   1.   1.   1.   0.93 1.   0.87 1.   1.   1.  ]\n",
            "Accuracy: 0.98 +/- 0.09\n"
          ],
          "name": "stdout"
        }
      ]
    },
    {
      "cell_type": "markdown",
      "metadata": {
        "id": "aDpn3ekLuTky"
      },
      "source": [
        "Let's do a more principled evaluation by splitting the dataset into 90% train and 10% test."
      ]
    },
    {
      "cell_type": "code",
      "metadata": {
        "id": "rRLdXv3nug62"
      },
      "source": [
        "from sklearn.model_selection import train_test_split\n",
        "X_train, X_test, y_train, y_test = train_test_split(X, y, test_size=0.10)"
      ],
      "execution_count": null,
      "outputs": []
    },
    {
      "cell_type": "markdown",
      "metadata": {
        "id": "vTKBgIMEv1hy"
      },
      "source": [
        "Fit the model to the training data"
      ]
    },
    {
      "cell_type": "code",
      "metadata": {
        "id": "UCjtmYwyuuZH"
      },
      "source": [
        "clf = LogisticRegression(C=1e5, solver='lbfgs', multi_class='multinomial', max_iter=200)\n",
        "clf = clf.fit(X_train, y_train)"
      ],
      "execution_count": null,
      "outputs": []
    },
    {
      "cell_type": "markdown",
      "metadata": {
        "id": "QsAw9yu-wR74"
      },
      "source": [
        "Run the model on the held-out test data and display results via a confusion matrix showing the predicted and actual categories of the test data"
      ]
    },
    {
      "cell_type": "code",
      "metadata": {
        "id": "h_FrqEr7vlGC",
        "colab": {
          "base_uri": "https://localhost:8080/",
          "height": 69
        },
        "outputId": "ed663674-caf9-4710-d107-207acdb068e3"
      },
      "source": [
        "y_predict = clf.predict(X_test)\n",
        "\n",
        "from sklearn.metrics import confusion_matrix\n",
        "confusion_matrix(y_test, y_predict)"
      ],
      "execution_count": null,
      "outputs": [
        {
          "output_type": "execute_result",
          "data": {
            "text/plain": [
              "array([[4, 0, 0],\n",
              "       [0, 7, 0],\n",
              "       [0, 0, 4]])"
            ]
          },
          "metadata": {
            "tags": []
          },
          "execution_count": 54
        }
      ]
    }
  ]
}